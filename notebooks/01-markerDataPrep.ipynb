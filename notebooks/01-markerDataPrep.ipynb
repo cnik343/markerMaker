{
 "cells": [
  {
   "cell_type": "markdown",
   "metadata": {},
   "source": [
    "Import modules:"
   ]
  },
  {
   "cell_type": "code",
   "execution_count": 1,
   "metadata": {},
   "outputs": [],
   "source": [
    "import pandas as pd"
   ]
  },
  {
   "cell_type": "markdown",
   "metadata": {},
   "source": [
    "Load tops data:"
   ]
  },
  {
   "cell_type": "code",
   "execution_count": 2,
   "metadata": {},
   "outputs": [],
   "source": [
    "df = pd.read_csv('../data/oga_markers_all_wells.csv')"
   ]
  },
  {
   "cell_type": "code",
   "execution_count": 3,
   "metadata": {},
   "outputs": [
    {
     "data": {
      "text/html": [
       "<div>\n",
       "<style scoped>\n",
       "    .dataframe tbody tr th:only-of-type {\n",
       "        vertical-align: middle;\n",
       "    }\n",
       "\n",
       "    .dataframe tbody tr th {\n",
       "        vertical-align: top;\n",
       "    }\n",
       "\n",
       "    .dataframe thead th {\n",
       "        text-align: right;\n",
       "    }\n",
       "</style>\n",
       "<table border=\"1\" class=\"dataframe\">\n",
       "  <thead>\n",
       "    <tr style=\"text-align: right;\">\n",
       "      <th></th>\n",
       "      <th>Unnamed: 0</th>\n",
       "      <th>OBJECTID</th>\n",
       "      <th>XY</th>\n",
       "      <th>Well_Number</th>\n",
       "      <th>Unique_ID</th>\n",
       "      <th>Source_of_Well</th>\n",
       "      <th>Provider</th>\n",
       "      <th>Depth_MD</th>\n",
       "      <th>Depth_TVDSS</th>\n",
       "      <th>Pick_Name</th>\n",
       "      <th>OGA_Epoch</th>\n",
       "    </tr>\n",
       "  </thead>\n",
       "  <tbody>\n",
       "    <tr>\n",
       "      <th>0</th>\n",
       "      <td>0</td>\n",
       "      <td>1</td>\n",
       "      <td>(-3.269956, 58.263699)</td>\n",
       "      <td>11/24- 1</td>\n",
       "      <td>11/24- 1_Lloyds Register_Kimmeridge Clay</td>\n",
       "      <td>UK Offshore</td>\n",
       "      <td>Lloyds Register</td>\n",
       "      <td>75.0</td>\n",
       "      <td>NaN</td>\n",
       "      <td>Kimmeridge Clay</td>\n",
       "      <td>NaN</td>\n",
       "    </tr>\n",
       "    <tr>\n",
       "      <th>1</th>\n",
       "      <td>1</td>\n",
       "      <td>2</td>\n",
       "      <td>(-3.269956, 58.263699)</td>\n",
       "      <td>11/24- 1</td>\n",
       "      <td>11/24- 1_Lloyds Register_Heather</td>\n",
       "      <td>UK Offshore</td>\n",
       "      <td>Lloyds Register</td>\n",
       "      <td>1140.0</td>\n",
       "      <td>NaN</td>\n",
       "      <td>Heather</td>\n",
       "      <td>NaN</td>\n",
       "    </tr>\n",
       "    <tr>\n",
       "      <th>2</th>\n",
       "      <td>2</td>\n",
       "      <td>3</td>\n",
       "      <td>(-3.269956, 58.263699)</td>\n",
       "      <td>11/24- 1</td>\n",
       "      <td>11/24- 1_Lloyds Register_Beatrice</td>\n",
       "      <td>UK Offshore</td>\n",
       "      <td>Lloyds Register</td>\n",
       "      <td>1486.0</td>\n",
       "      <td>NaN</td>\n",
       "      <td>Beatrice</td>\n",
       "      <td>NaN</td>\n",
       "    </tr>\n",
       "    <tr>\n",
       "      <th>3</th>\n",
       "      <td>3</td>\n",
       "      <td>4</td>\n",
       "      <td>(-3.269956, 58.263699)</td>\n",
       "      <td>11/24- 1</td>\n",
       "      <td>11/24- 1_Lloyds Register_Brora Coal</td>\n",
       "      <td>UK Offshore</td>\n",
       "      <td>Lloyds Register</td>\n",
       "      <td>1513.0</td>\n",
       "      <td>NaN</td>\n",
       "      <td>Brora Coal</td>\n",
       "      <td>NaN</td>\n",
       "    </tr>\n",
       "    <tr>\n",
       "      <th>4</th>\n",
       "      <td>4</td>\n",
       "      <td>5</td>\n",
       "      <td>(-3.269956, 58.263699)</td>\n",
       "      <td>11/24- 1</td>\n",
       "      <td>11/24- 1_Lloyds Register_Orrin</td>\n",
       "      <td>UK Offshore</td>\n",
       "      <td>Lloyds Register</td>\n",
       "      <td>1648.0</td>\n",
       "      <td>NaN</td>\n",
       "      <td>Orrin</td>\n",
       "      <td>NaN</td>\n",
       "    </tr>\n",
       "  </tbody>\n",
       "</table>\n",
       "</div>"
      ],
      "text/plain": [
       "   Unnamed: 0  OBJECTID                      XY Well_Number  \\\n",
       "0           0         1  (-3.269956, 58.263699)    11/24- 1   \n",
       "1           1         2  (-3.269956, 58.263699)    11/24- 1   \n",
       "2           2         3  (-3.269956, 58.263699)    11/24- 1   \n",
       "3           3         4  (-3.269956, 58.263699)    11/24- 1   \n",
       "4           4         5  (-3.269956, 58.263699)    11/24- 1   \n",
       "\n",
       "                                  Unique_ID Source_of_Well         Provider  \\\n",
       "0  11/24- 1_Lloyds Register_Kimmeridge Clay    UK Offshore  Lloyds Register   \n",
       "1          11/24- 1_Lloyds Register_Heather    UK Offshore  Lloyds Register   \n",
       "2         11/24- 1_Lloyds Register_Beatrice    UK Offshore  Lloyds Register   \n",
       "3       11/24- 1_Lloyds Register_Brora Coal    UK Offshore  Lloyds Register   \n",
       "4            11/24- 1_Lloyds Register_Orrin    UK Offshore  Lloyds Register   \n",
       "\n",
       "   Depth_MD  Depth_TVDSS        Pick_Name  OGA_Epoch  \n",
       "0      75.0          NaN  Kimmeridge Clay        NaN  \n",
       "1    1140.0          NaN          Heather        NaN  \n",
       "2    1486.0          NaN         Beatrice        NaN  \n",
       "3    1513.0          NaN       Brora Coal        NaN  \n",
       "4    1648.0          NaN            Orrin        NaN  "
      ]
     },
     "execution_count": 3,
     "metadata": {},
     "output_type": "execute_result"
    }
   ],
   "source": [
    "df.head()"
   ]
  },
  {
   "cell_type": "markdown",
   "metadata": {},
   "source": [
    "Not all of the columns are needed.  Extract the useful columns, convert the location data (XY) column into more useable 'x' and 'y' columns (they are currently string data)."
   ]
  },
  {
   "cell_type": "code",
   "execution_count": 4,
   "metadata": {},
   "outputs": [],
   "source": [
    "df = df[['Well_Number','XY','Depth_MD','Pick_Name']]"
   ]
  },
  {
   "cell_type": "code",
   "execution_count": 5,
   "metadata": {},
   "outputs": [],
   "source": [
    "df[['x','y']] = df.XY.str.split(',',expand=True)"
   ]
  },
  {
   "cell_type": "code",
   "execution_count": 6,
   "metadata": {},
   "outputs": [],
   "source": [
    "df.x = df.x.str.replace('(','')"
   ]
  },
  {
   "cell_type": "code",
   "execution_count": 7,
   "metadata": {},
   "outputs": [],
   "source": [
    "df.y = df.y.str.replace(')','')"
   ]
  },
  {
   "cell_type": "code",
   "execution_count": 8,
   "metadata": {},
   "outputs": [],
   "source": [
    "df = df.drop('XY',axis=1)"
   ]
  },
  {
   "cell_type": "markdown",
   "metadata": {},
   "source": [
    "The cleaned data set now looks like this:"
   ]
  },
  {
   "cell_type": "code",
   "execution_count": 9,
   "metadata": {},
   "outputs": [
    {
     "data": {
      "text/html": [
       "<div>\n",
       "<style scoped>\n",
       "    .dataframe tbody tr th:only-of-type {\n",
       "        vertical-align: middle;\n",
       "    }\n",
       "\n",
       "    .dataframe tbody tr th {\n",
       "        vertical-align: top;\n",
       "    }\n",
       "\n",
       "    .dataframe thead th {\n",
       "        text-align: right;\n",
       "    }\n",
       "</style>\n",
       "<table border=\"1\" class=\"dataframe\">\n",
       "  <thead>\n",
       "    <tr style=\"text-align: right;\">\n",
       "      <th></th>\n",
       "      <th>Well_Number</th>\n",
       "      <th>Depth_MD</th>\n",
       "      <th>Pick_Name</th>\n",
       "      <th>x</th>\n",
       "      <th>y</th>\n",
       "    </tr>\n",
       "  </thead>\n",
       "  <tbody>\n",
       "    <tr>\n",
       "      <th>159378</th>\n",
       "      <td>219/27- 1</td>\n",
       "      <td>2580.0</td>\n",
       "      <td>Shetland</td>\n",
       "      <td>0.305167</td>\n",
       "      <td>62.12047</td>\n",
       "    </tr>\n",
       "    <tr>\n",
       "      <th>159379</th>\n",
       "      <td>219/28- 1</td>\n",
       "      <td>2380.0</td>\n",
       "      <td>Shetland</td>\n",
       "      <td>0.51675</td>\n",
       "      <td>62.03792</td>\n",
       "    </tr>\n",
       "    <tr>\n",
       "      <th>159380</th>\n",
       "      <td>219/28- 2</td>\n",
       "      <td>2655.0</td>\n",
       "      <td>Shetland</td>\n",
       "      <td>0.465306</td>\n",
       "      <td>62.12742</td>\n",
       "    </tr>\n",
       "    <tr>\n",
       "      <th>159381</th>\n",
       "      <td>220/26- 1</td>\n",
       "      <td>2225.0</td>\n",
       "      <td>Shetland</td>\n",
       "      <td>1.032944</td>\n",
       "      <td>62.07294</td>\n",
       "    </tr>\n",
       "    <tr>\n",
       "      <th>159382</th>\n",
       "      <td>220/26- 2</td>\n",
       "      <td>2017.0</td>\n",
       "      <td>Shetland</td>\n",
       "      <td>1.045444</td>\n",
       "      <td>62.023</td>\n",
       "    </tr>\n",
       "  </tbody>\n",
       "</table>\n",
       "</div>"
      ],
      "text/plain": [
       "       Well_Number  Depth_MD Pick_Name         x          y\n",
       "159378   219/27- 1    2580.0  Shetland  0.305167   62.12047\n",
       "159379   219/28- 1    2380.0  Shetland   0.51675   62.03792\n",
       "159380   219/28- 2    2655.0  Shetland  0.465306   62.12742\n",
       "159381   220/26- 1    2225.0  Shetland  1.032944   62.07294\n",
       "159382   220/26- 2    2017.0  Shetland  1.045444     62.023"
      ]
     },
     "execution_count": 9,
     "metadata": {},
     "output_type": "execute_result"
    }
   ],
   "source": [
    "df.tail()"
   ]
  },
  {
   "cell_type": "markdown",
   "metadata": {},
   "source": [
    "The data set contains nearly 160,000 tops.  We want to know which wells have Paleocene picks. This list will then be used in QGIS to select a set of wells from a limited geographic area to use to train a model to try to identify lithostratigraphic units within the Paleocene."
   ]
  },
  {
   "cell_type": "code",
   "execution_count": 10,
   "metadata": {},
   "outputs": [],
   "source": [
    "#list of 'common' Paleocene tops:\n",
    "pal_tops = ['Forties','Beauly','Balder','Odin','Dornoch','Lista','Maureen','Vale','Andrew','Glamis','Fergie','Sele','Fiskebank']"
   ]
  },
  {
   "cell_type": "code",
   "execution_count": 11,
   "metadata": {},
   "outputs": [],
   "source": [
    "#extract all tops that are in the list of common Paleocene tops and save to a csv file for use in QGIS:\n",
    "df.loc[df['Pick_Name'].isin(pal_tops)].to_csv('../data/oga_markers_paleo_all_wells.csv')"
   ]
  },
  {
   "cell_type": "markdown",
   "metadata": {},
   "source": [
    "---\n",
    "---\n",
    "Using the extracted list above and QGIS a subset of wells with available log data was selected.  The list of wells can now be imported.\n",
    "\n",
    "---\n",
    "---"
   ]
  },
  {
   "cell_type": "code",
   "execution_count": 12,
   "metadata": {},
   "outputs": [],
   "source": [
    "wells = pd.read_csv('../data/oga_wells_with_logs_selected.csv')"
   ]
  },
  {
   "cell_type": "code",
   "execution_count": 13,
   "metadata": {},
   "outputs": [
    {
     "data": {
      "text/plain": [
       "['15/11- 1',\n",
       " '15/11b- 5',\n",
       " '15/12- 1',\n",
       " '15/13- 2',\n",
       " '15/13- 3',\n",
       " '15/13a- 10',\n",
       " '15/13a- 4Z',\n",
       " '15/13a- 7Z',\n",
       " '15/16- 5',\n",
       " '14/20b- 30',\n",
       " '14/20b- 32',\n",
       " '15/16b- 18',\n",
       " '15/16b- 20',\n",
       " '15/17- 10',\n",
       " '15/17- 15',\n",
       " '15/17- 21',\n",
       " '15/17- 24',\n",
       " '15/17- 25',\n",
       " '15/17- 4',\n",
       " '15/17- 6',\n",
       " '15/17- 7',\n",
       " '15/17- 8A',\n",
       " '15/17- 9',\n",
       " '15/18- 1',\n",
       " '14/20- 1',\n",
       " '14/20- 10',\n",
       " '14/20- 11',\n",
       " '14/20- 12',\n",
       " '14/20- 13',\n",
       " '14/20- 14',\n",
       " '14/20- 2',\n",
       " '14/20- 5',\n",
       " '14/20- 7',\n",
       " '14/20- 8',\n",
       " '14/20- 9',\n",
       " '14/20b- 29',\n",
       " '15/21- 1',\n",
       " '15/18- 2',\n",
       " '15/18b- 11',\n",
       " '15/19- 1',\n",
       " '15/19- 5',\n",
       " '15/19- 9',\n",
       " '15/19b- 10',\n",
       " '15/21a- 51',\n",
       " '15/21a- 52',\n",
       " '15/21a- 55',\n",
       " '15/21b- 21',\n",
       " '15/21b- 45',\n",
       " '15/21b- 47',\n",
       " '15/21b- 49',\n",
       " '15/21b- 50',\n",
       " '15/23d- 13',\n",
       " '15/24a- 4',\n",
       " '15/21b- 56',\n",
       " '15/22- 14',\n",
       " '15/19- 2']"
      ]
     },
     "execution_count": 13,
     "metadata": {},
     "output_type": "execute_result"
    }
   ],
   "source": [
    "#extract a list of well names from the selected Paleocene wells:\n",
    "well_names_list = list(wells.WELLREGNO)\n",
    "well_names_list"
   ]
  },
  {
   "cell_type": "code",
   "execution_count": 14,
   "metadata": {},
   "outputs": [],
   "source": [
    "# extract all tops that are in the list of selected wells:\n",
    "selected_well_tops = df.loc[df['Well_Number'].isin(well_names_list)]"
   ]
  },
  {
   "cell_type": "code",
   "execution_count": 15,
   "metadata": {},
   "outputs": [],
   "source": [
    "# save to a csv file:\n",
    "selected_well_tops.to_csv('../data/oga_markers_selected_wells_initial.csv')"
   ]
  },
  {
   "cell_type": "code",
   "execution_count": 16,
   "metadata": {},
   "outputs": [
    {
     "name": "stdout",
     "output_type": "stream",
     "text": [
      "<class 'pandas.core.frame.DataFrame'>\n",
      "Int64Index: 1931 entries, 1978 to 154111\n",
      "Data columns (total 5 columns):\n",
      "Well_Number    1931 non-null object\n",
      "Depth_MD       1895 non-null float64\n",
      "Pick_Name      1931 non-null object\n",
      "x              1931 non-null object\n",
      "y              1931 non-null object\n",
      "dtypes: float64(1), object(4)\n",
      "memory usage: 90.5+ KB\n"
     ]
    }
   ],
   "source": [
    "selected_well_tops.info()"
   ]
  },
  {
   "cell_type": "markdown",
   "metadata": {},
   "source": [
    "---\n",
    "---\n",
    "We now have a list of wells that have available log data and tops picked for the Paleocene section.  The final stage of data preparation is a list of the selected wells and the name of the las file with the log data for that well.\n",
    "\n",
    "---\n",
    "---"
   ]
  },
  {
   "cell_type": "markdown",
   "metadata": {},
   "source": [
    "To do this we can import a list of well names and las file names for the wider area and filter it based on the selected Paleocene wells."
   ]
  },
  {
   "cell_type": "code",
   "execution_count": 17,
   "metadata": {},
   "outputs": [],
   "source": [
    "las_names = pd.read_csv('../data/wells_by_lasfile.csv',header=None)"
   ]
  },
  {
   "cell_type": "code",
   "execution_count": 18,
   "metadata": {},
   "outputs": [],
   "source": [
    "#assign column names to the imported data:\n",
    "las_names.rename(columns={0:'fname',1:'wname'},inplace=True)"
   ]
  },
  {
   "cell_type": "code",
   "execution_count": 19,
   "metadata": {},
   "outputs": [],
   "source": [
    "#the new file has well names extracted directly from the las files - they omit a space from the file name:\n",
    "las_names.wname = las_names.wname.str.replace('-','- ')"
   ]
  },
  {
   "cell_type": "code",
   "execution_count": 20,
   "metadata": {},
   "outputs": [
    {
     "data": {
      "text/plain": [
       "43"
      ]
     },
     "execution_count": 20,
     "metadata": {},
     "output_type": "execute_result"
    }
   ],
   "source": [
    "#join the two lists:\n",
    "las_files = las_names.loc[las_names['wname'].isin(well_names_list)]\n",
    "len(las_files)"
   ]
  },
  {
   "cell_type": "markdown",
   "metadata": {},
   "source": [
    "The number of wells has been reduced to 43.  This is likely to be down to well name matching.  It still leaves plenty of wells to use to train a model (hopefully)."
   ]
  },
  {
   "cell_type": "code",
   "execution_count": 21,
   "metadata": {},
   "outputs": [],
   "source": [
    "#save the final list of wells to a csv file:\n",
    "las_files.to_csv('../data/wells_by_lasfile_edit.csv')"
   ]
  },
  {
   "cell_type": "code",
   "execution_count": null,
   "metadata": {},
   "outputs": [],
   "source": []
  }
 ],
 "metadata": {
  "kernelspec": {
   "display_name": "Geoscience",
   "language": "python",
   "name": "geoscience"
  },
  "language_info": {
   "codemirror_mode": {
    "name": "ipython",
    "version": 3
   },
   "file_extension": ".py",
   "mimetype": "text/x-python",
   "name": "python",
   "nbconvert_exporter": "python",
   "pygments_lexer": "ipython3",
   "version": "3.7.4"
  }
 },
 "nbformat": 4,
 "nbformat_minor": 2
}
